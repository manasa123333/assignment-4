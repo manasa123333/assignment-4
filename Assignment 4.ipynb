{
 "cells": [
  {
   "cell_type": "markdown",
   "id": "e132329a-d405-431f-b027-71b0693808de",
   "metadata": {},
   "source": [
    "Q1. Which keyword is used to create a function? Create a function to return a list of odd numbers in the  range of 1 to 25. "
   ]
  },
  {
   "cell_type": "markdown",
   "id": "a3afc003-700b-4bef-89d0-912a78d3071e",
   "metadata": {},
   "source": [
    "The key word used to define function is def."
   ]
  },
  {
   "cell_type": "code",
   "execution_count": 1,
   "id": "e36dc280-4406-4031-a8b3-191cc70101b2",
   "metadata": {},
   "outputs": [],
   "source": [
    "def return_odd_number():\n",
    "    l = []\n",
    "    for i in range(1,25):\n",
    "        if i%2 != 0:\n",
    "            l.append(i)\n",
    "    return l"
   ]
  },
  {
   "cell_type": "code",
   "execution_count": 2,
   "id": "a5e85581-8138-4850-b330-f9c187fb3305",
   "metadata": {},
   "outputs": [
    {
     "data": {
      "text/plain": [
       "[1, 3, 5, 7, 9, 11, 13, 15, 17, 19, 21, 23]"
      ]
     },
     "execution_count": 2,
     "metadata": {},
     "output_type": "execute_result"
    }
   ],
   "source": [
    "return_odd_number()"
   ]
  },
  {
   "cell_type": "markdown",
   "id": "ab2685a6-c366-487a-93a7-73fe10f3a6e2",
   "metadata": {},
   "source": [
    "Q2. Why *args and **kwargs is used in some functions? Create a function each for *args and **kwargs  to demonstrate their use. "
   ]
  },
  {
   "cell_type": "code",
   "execution_count": 3,
   "id": "26a6088a-d70d-43b2-9d07-2214c923b193",
   "metadata": {},
   "outputs": [],
   "source": [
    "# *args implies we can pass any number of arguments\n",
    "def product(*args):\n",
    "    product = 1\n",
    "    for i in args:\n",
    "      product = product * i\n",
    "    return product"
   ]
  },
  {
   "cell_type": "code",
   "execution_count": 4,
   "id": "9a28b579-5462-4f51-a3eb-21b90fde91e0",
   "metadata": {},
   "outputs": [
    {
     "data": {
      "text/plain": [
       "504"
      ]
     },
     "execution_count": 4,
     "metadata": {},
     "output_type": "execute_result"
    }
   ],
   "source": [
    "product(7,8,9)"
   ]
  },
  {
   "cell_type": "code",
   "execution_count": 5,
   "id": "7cacd7c9-c1dc-4aad-8d19-f5f0dc2f53dc",
   "metadata": {},
   "outputs": [],
   "source": [
    "# **kwargs implies we can pass any number of key value pair\n",
    "def key_value(**kwargs):\n",
    "    return kwargs"
   ]
  },
  {
   "cell_type": "code",
   "execution_count": 6,
   "id": "cc9f20f8-f731-4eab-9abe-f07fc6901994",
   "metadata": {},
   "outputs": [
    {
     "data": {
      "text/plain": [
       "{'a': [1, 2, 3, 4], 'b': 'sudh', 'c': 8658.7568}"
      ]
     },
     "execution_count": 6,
     "metadata": {},
     "output_type": "execute_result"
    }
   ],
   "source": [
    "key_value(a = [1,2,3,4],b='sudh',c = 8658.7568)"
   ]
  },
  {
   "cell_type": "markdown",
   "id": "735f9bf9-3025-4c60-861d-aee0a097c5da",
   "metadata": {},
   "source": [
    "Q3.  What is an iterator in python? Name the method used to initialise the iterator object and the method  used for iteration. Use these methods to print the first five elements of the given list [2, 4, 6, 8, 10, 12, 14,  16, 18, 20]. "
   ]
  },
  {
   "cell_type": "markdown",
   "id": "59edd05f-611a-498a-a0a3-b201b35c0ccb",
   "metadata": {},
   "source": [
    "An iterator is an object that can be iterated upon, meaning that you can traverse through all the values.                       \n",
    "\n",
    "The method used to iterator object is iter() and method used for iteration is next()\n"
   ]
  },
  {
   "cell_type": "code",
   "execution_count": 7,
   "id": "3d5bf483-7036-4cd7-9103-211fed1bc21f",
   "metadata": {},
   "outputs": [],
   "source": [
    "l1 = [2,4,6,8,10,12,14,16,18,20]"
   ]
  },
  {
   "cell_type": "code",
   "execution_count": 8,
   "id": "718e97aa-2a98-4aa9-bd28-b1763cd500fb",
   "metadata": {},
   "outputs": [],
   "source": [
    "l2 = iter(l1)"
   ]
  },
  {
   "cell_type": "code",
   "execution_count": 9,
   "id": "dd96926f-0b55-4b12-af83-f79facc041c4",
   "metadata": {},
   "outputs": [
    {
     "data": {
      "text/plain": [
       "2"
      ]
     },
     "execution_count": 9,
     "metadata": {},
     "output_type": "execute_result"
    }
   ],
   "source": [
    "next(l2)"
   ]
  },
  {
   "cell_type": "code",
   "execution_count": 10,
   "id": "0deafe8f-c292-4785-ac91-81da6215392d",
   "metadata": {},
   "outputs": [
    {
     "data": {
      "text/plain": [
       "4"
      ]
     },
     "execution_count": 10,
     "metadata": {},
     "output_type": "execute_result"
    }
   ],
   "source": [
    "next(l2)"
   ]
  },
  {
   "cell_type": "code",
   "execution_count": 11,
   "id": "723955a0-7922-445b-a25f-8b5be6d2433c",
   "metadata": {},
   "outputs": [
    {
     "data": {
      "text/plain": [
       "6"
      ]
     },
     "execution_count": 11,
     "metadata": {},
     "output_type": "execute_result"
    }
   ],
   "source": [
    "next(l2)"
   ]
  },
  {
   "cell_type": "code",
   "execution_count": 12,
   "id": "f22eb792-6e67-459d-864e-ed232d27c896",
   "metadata": {},
   "outputs": [
    {
     "data": {
      "text/plain": [
       "8"
      ]
     },
     "execution_count": 12,
     "metadata": {},
     "output_type": "execute_result"
    }
   ],
   "source": [
    "next(l2)"
   ]
  },
  {
   "cell_type": "code",
   "execution_count": 13,
   "id": "38456b1e-4e8d-466e-aebc-e2a7c64397a3",
   "metadata": {},
   "outputs": [
    {
     "data": {
      "text/plain": [
       "10"
      ]
     },
     "execution_count": 13,
     "metadata": {},
     "output_type": "execute_result"
    }
   ],
   "source": [
    "next(l2)"
   ]
  },
  {
   "cell_type": "markdown",
   "id": "f8fecaba-2ea3-4c0e-96ba-bf5e284a6a60",
   "metadata": {},
   "source": [
    "Q4.  What is a generator function in python? Why yield keyword is used? Give an example of a generator  function"
   ]
  },
  {
   "cell_type": "markdown",
   "id": "748b6a36-8a54-41cc-98b7-d0ee46449105",
   "metadata": {},
   "source": [
    "In Python, a generator is a function that returns an iterator that produces a sequence of values when iterated over. Generators are useful when we want to produce a large sequence of values, but we don't want to store all of them in memory at once"
   ]
  },
  {
   "cell_type": "markdown",
   "id": "505a94f2-bad7-4fc5-9fe4-43cc9b1cc8fd",
   "metadata": {},
   "source": [
    "yield keyword is used to generate values .we use this so that we can save memory space"
   ]
  },
  {
   "cell_type": "code",
   "execution_count": 14,
   "id": "3f65ddbb-cad9-4725-996e-b5d3734a5955",
   "metadata": {},
   "outputs": [],
   "source": [
    "def gen(n):\n",
    "    for i in range(n):\n",
    "        yield i"
   ]
  },
  {
   "cell_type": "code",
   "execution_count": 15,
   "id": "1617ec46-71e8-4608-bf3d-4e85e3148bd7",
   "metadata": {},
   "outputs": [],
   "source": [
    "g = gen(90)"
   ]
  },
  {
   "cell_type": "code",
   "execution_count": 16,
   "id": "7b324476-124f-446d-934f-c597d06c3816",
   "metadata": {},
   "outputs": [
    {
     "name": "stdout",
     "output_type": "stream",
     "text": [
      "<generator object gen at 0x7faa96031d90>\n"
     ]
    }
   ],
   "source": [
    "print(g)"
   ]
  },
  {
   "cell_type": "markdown",
   "id": "38590bd6-92e9-4b07-97d4-426a796d0ac3",
   "metadata": {},
   "source": [
    "Q5.  Create a generator function for prime numbers less than 1000. Use the next() method to print the  first 20 prime numbers"
   ]
  },
  {
   "cell_type": "code",
   "execution_count": 19,
   "id": "a9d5c825-8094-4244-951e-608a4a6f6eca",
   "metadata": {
    "tags": []
   },
   "outputs": [],
   "source": [
    "def isPrime(num):\n",
    "    for i in range(2,num):\n",
    "        if num%i == 0:\n",
    "            return False\n",
    "    return True\n",
    "\n",
    "def prime():\n",
    "    for i in range(2,1000):\n",
    "        if isPrime(i):\n",
    "            yield i\n",
    "    "
   ]
  },
  {
   "cell_type": "code",
   "execution_count": 20,
   "id": "839337e3-ec43-4904-a3bc-a66d3195ce53",
   "metadata": {},
   "outputs": [],
   "source": [
    "prime = prime()"
   ]
  },
  {
   "cell_type": "code",
   "execution_count": 21,
   "id": "ad4943ef-33c8-443e-ad7b-957cd7369ff9",
   "metadata": {},
   "outputs": [
    {
     "name": "stdout",
     "output_type": "stream",
     "text": [
      "2\n",
      "3\n",
      "5\n",
      "7\n",
      "11\n",
      "13\n",
      "17\n",
      "19\n",
      "23\n",
      "29\n",
      "31\n",
      "37\n",
      "41\n",
      "43\n",
      "47\n",
      "53\n",
      "59\n",
      "61\n",
      "67\n",
      "71\n"
     ]
    }
   ],
   "source": [
    "for j in range(20):\n",
    "    print(next(prime))"
   ]
  },
  {
   "cell_type": "markdown",
   "id": "80ad0e0f-ca6c-4016-833e-a30d1b2c5adb",
   "metadata": {},
   "source": [
    "Q6. Write a python program to print the first 10 Fibonacci numbers using a while loop. "
   ]
  },
  {
   "cell_type": "code",
   "execution_count": 22,
   "id": "381ea0e7-a4d7-4edb-a817-1ee263a2c5a9",
   "metadata": {},
   "outputs": [],
   "source": [
    "def test_fib():\n",
    "    a,b = 0,1\n",
    "    while True:\n",
    "        \n",
    "        yield a\n",
    "        a,b = b,a+b"
   ]
  },
  {
   "cell_type": "code",
   "execution_count": 23,
   "id": "8f49463a-ab2c-4002-80e8-a4bdc3754492",
   "metadata": {},
   "outputs": [],
   "source": [
    "fib = test_fib()"
   ]
  },
  {
   "cell_type": "code",
   "execution_count": 24,
   "id": "7a353367-0581-4fcd-b92f-d5a071e9da11",
   "metadata": {},
   "outputs": [
    {
     "name": "stdout",
     "output_type": "stream",
     "text": [
      "0\n",
      "1\n",
      "1\n",
      "2\n",
      "3\n",
      "5\n",
      "8\n",
      "13\n",
      "21\n",
      "34\n"
     ]
    }
   ],
   "source": [
    "for i in range(10):\n",
    "    print(next(fib))"
   ]
  },
  {
   "cell_type": "markdown",
   "id": "f0033a6e-1219-438a-b707-26ec07b56ce5",
   "metadata": {},
   "source": [
    "Q7. Write a List Comprehension to iterate through the given string: ‘pwskills’. \n",
    "Expected output: ['p', 'w', 's', 'k', 'i', 'l', 'l', 's']  \n"
   ]
  },
  {
   "cell_type": "code",
   "execution_count": 2,
   "id": "e6ff7bf2-367a-4ee7-9533-aa0786ced103",
   "metadata": {},
   "outputs": [
    {
     "data": {
      "text/plain": [
       "['p', 'w', 's', 'k', 'i', 'l', 'l', 's']"
      ]
     },
     "execution_count": 2,
     "metadata": {},
     "output_type": "execute_result"
    }
   ],
   "source": [
    "string = 'pwskills'\n",
    "[i for i in string]"
   ]
  },
  {
   "cell_type": "markdown",
   "id": "7870e816-9167-46ee-826e-fd56ab6392b1",
   "metadata": {},
   "source": [
    "Q8. Write a python program to check whether a given number is Palindrome or not using a while loop."
   ]
  },
  {
   "cell_type": "code",
   "execution_count": 5,
   "id": "baaf97ae-4752-4341-9ecd-9bef54d27df3",
   "metadata": {},
   "outputs": [
    {
     "name": "stdin",
     "output_type": "stream",
     "text": [
      "Enter a number : 121\n"
     ]
    },
    {
     "name": "stdout",
     "output_type": "stream",
     "text": [
      "The given number is a palindrome\n"
     ]
    }
   ],
   "source": [
    "n = int(input(\"Enter a number :\"))\n",
    "temp = n\n",
    "reverse = 0\n",
    "\n",
    "while n > 0:\n",
    "    dig = n%10\n",
    "    reverse = reverse*10 + dig\n",
    "    n = n//10\n",
    "    \n",
    "if reverse == temp:\n",
    "    print(\"The given number is a palindrome\")\n",
    "else:\n",
    "    print(\"The given number is not a palindrome\")"
   ]
  },
  {
   "cell_type": "markdown",
   "id": "daa01a72-622d-4088-8629-1d4fa9a0ec8f",
   "metadata": {},
   "source": [
    "Q9. Write a code to print odd numbers from 1 to 100 using list comprehension. \n",
    "Note: Use a list comprehension to create a list from 1 to 100 and use another List comprehension to filter  out odd numbers. \n"
   ]
  },
  {
   "cell_type": "code",
   "execution_count": 8,
   "id": "d07563c9-e7a7-4c17-a6f1-9dcba1b6fe45",
   "metadata": {},
   "outputs": [
    {
     "ename": "SyntaxError",
     "evalue": "invalid syntax. Maybe you meant '==' or ':=' instead of '='? (2058454510.py, line 2)",
     "output_type": "error",
     "traceback": [
      "\u001b[0;36m  Cell \u001b[0;32mIn[8], line 2\u001b[0;36m\u001b[0m\n\u001b[0;31m    [(i,end =' ') for i in l if i %3 == 0]\u001b[0m\n\u001b[0m        ^\u001b[0m\n\u001b[0;31mSyntaxError\u001b[0m\u001b[0;31m:\u001b[0m invalid syntax. Maybe you meant '==' or ':=' instead of '='?\n"
     ]
    }
   ],
   "source": [
    "l = [i for i in range(1,101)]\n",
    "[i for i in l if i %3 == 0]"
   ]
  },
  {
   "cell_type": "code",
   "execution_count": null,
   "id": "17dacb2b-e2ca-411a-a3c8-f2a50ae50934",
   "metadata": {},
   "outputs": [],
   "source": []
  }
 ],
 "metadata": {
  "kernelspec": {
   "display_name": "Python 3 (ipykernel)",
   "language": "python",
   "name": "python3"
  },
  "language_info": {
   "codemirror_mode": {
    "name": "ipython",
    "version": 3
   },
   "file_extension": ".py",
   "mimetype": "text/x-python",
   "name": "python",
   "nbconvert_exporter": "python",
   "pygments_lexer": "ipython3",
   "version": "3.10.8"
  }
 },
 "nbformat": 4,
 "nbformat_minor": 5
}
